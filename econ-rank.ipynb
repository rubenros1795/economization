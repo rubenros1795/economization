{
 "cells": [
  {
   "cell_type": "code",
   "execution_count": null,
   "metadata": {},
   "outputs": [],
   "source": [
    "import pandas as pd\n",
    "import seaborn as sns\n",
    "from pymannkendall import pymannkendall as pmk\n",
    "from helpers import dataloader as dl\n",
    "from tqdm import tqdm\n",
    "import matplotlib.pyplot as plt\n",
    "import numpy as np\n",
    "from scipy.stats import entropy, zscore\n",
    "from helpers.afa import *\n",
    "\n",
    "import visualization as vz\n",
    "\n",
    "vz.visuals(font='Roboto')\n",
    "main_colors = [col for c,col in enumerate(sns.color_palette('BrBG',10)) if c not in [4,5]]"
   ]
  },
  {
   "cell_type": "code",
   "execution_count": null,
   "metadata": {},
   "outputs": [],
   "source": [
    "# Load Data\n",
    "words, dist, data, keys = dl.load_lda()\n",
    "dist = dist.set_index(data.date)"
   ]
  },
  {
   "cell_type": "code",
   "execution_count": null,
   "metadata": {},
   "outputs": [],
   "source": [
    "# Select only \"semantic\" topics, normalize data\n",
    "selected_topics = [str(i) for i in range(250) if any(s in keys[i] for s in ['proc','nonsem']) == False and keys[i] != 'rhet' and keys[i] != 'proc']\n",
    "dist = dist[selected_topics]\n",
    "dist = dist.div(dist.sum(axis=1), axis=0)"
   ]
  },
  {
   "cell_type": "code",
   "execution_count": null,
   "metadata": {},
   "outputs": [],
   "source": [
    "# Get Topic Rankings, highest = 1\n",
    "distr = dist.rank(1, ascending=False).set_index(data.date)"
   ]
  },
  {
   "cell_type": "code",
   "execution_count": null,
   "metadata": {},
   "outputs": [],
   "source": [
    "# Loop over periods and topics, for every period, calculate proportion of topic rank\n",
    "\n",
    "L_RANK = 3\n",
    "\n",
    "r = []\n",
    "\n",
    "for date, data_ in tqdm(distr.groupby(distr.index.to_period('6M'))):\n",
    "    if date.year == 1945:\n",
    "        continue\n",
    "    \n",
    "    for topic in distr.columns:\n",
    "        for rank in range(1, L_RANK):\n",
    "            rank_count = data_[data_[topic] == rank].shape[0]\n",
    "            rank_prop = rank_count / data_.shape[0]\n",
    "            r.append({\"time\": date.to_timestamp(), \"topic\": topic, \"rank\": rank, \"rankprop\": rank_prop})\n",
    "rd = pd.DataFrame(r)"
   ]
  },
  {
   "attachments": {},
   "cell_type": "markdown",
   "metadata": {},
   "source": [
    "# Get Rank 1 - Rank 2"
   ]
  },
  {
   "cell_type": "code",
   "execution_count": null,
   "metadata": {},
   "outputs": [],
   "source": [
    "# Calculate diachronic R1 - R2 for all topics\n",
    "\n",
    "dp = rd.pivot_table(index='time', columns=['topic', 'rank'], values='rankprop', aggfunc='mean')\n",
    "smdf = (dp[2] - dp[1]).mean(level='topic')\\\n",
    "                      .reset_index()\\\n",
    "                      .rename(columns={'topic': 'topic', 0: 'submean'})"
   ]
  },
  {
   "cell_type": "code",
   "execution_count": null,
   "metadata": {},
   "outputs": [],
   "source": [
    "def plot_ranks(ax, rd, topic, ranks):\n",
    "    \"\"\"\n",
    "    Function for plotting rank proportions over time\n",
    "    \"\"\"\n",
    "    df_ = rd[(rd.topic == topic) & (rd['rank'].isin(list(range(1,ranks+1))))]\n",
    "    df_ = df_.pivot(index='time',columns='rank',values='rankprop')\n",
    "\n",
    "    x = df_.index\n",
    "    for c,_ in enumerate(df_.columns):\n",
    "        y = df_[_]\n",
    "        y = adaptive_filter(y,span=36)\n",
    "        ax.plot(x,y,linewidth=2.5 if _ == 1 else 1,color=list(reversed(main_colors))[c], zorder = 10 - c, linestyle ='--' if _ != 1 else None)"
   ]
  },
  {
   "cell_type": "code",
   "execution_count": null,
   "metadata": {},
   "outputs": [],
   "source": [
    "# Sort by mean R1 - R2\n",
    "sorted_subtracted = smdf[~smdf.topic.apply(lambda x: keys.get(int(x))).str.contains('rhet|proc')]\n",
    "sorted_subtracted = sorted_subtracted.sort_values('submean',ascending=True).topic.tolist()"
   ]
  },
  {
   "cell_type": "code",
   "execution_count": null,
   "metadata": {},
   "outputs": [],
   "source": [
    "# Plot highest\n",
    "fig, ax = plt.subplots(2,4, sharex=True, sharey=True, figsize=(16,4))\n",
    "\n",
    "for c,t in enumerate(sorted_subtracted[:8]):\n",
    "    a = ax.flatten()[c]\n",
    "    plot_ranks(ax = a, topic = str(t), ranks = 5, rd = rd)\n",
    "    a.set_title(keys[int(t)].upper())\n",
    "    a.xaxis.set_tick_params(rotation=90)\n",
    "plt.subplots_adjust(hspace=.5)\n",
    "\n",
    "fig.text(0.5, -.1, '6-Month Periods (1945 - 1991)', ha='center',fontsize=15)\n",
    "fig.text(.075, 0.5, 'Norm. Rank Prominence', va='center', rotation='vertical',fontsize=15)\n",
    "plt.show()"
   ]
  },
  {
   "cell_type": "code",
   "execution_count": null,
   "metadata": {},
   "outputs": [],
   "source": [
    "# Plot lowest\n",
    "fig, ax = plt.subplots(2,4, sharex=True, sharey=True, figsize=(16,4))\n",
    "\n",
    "for c,t in enumerate(sorted_subtracted[-8:]):\n",
    "    a = ax.flatten()[c]\n",
    "    plot_ranks(ax = a, topic = str(t), ranks = 5, rd = rd)\n",
    "    a.set_title(keys[int(t)].upper())\n",
    "    a.xaxis.set_tick_params(rotation=90)\n",
    "plt.subplots_adjust(hspace=.5)\n",
    "\n",
    "fig.text(0.5, -.1, '6-Month Periods (1945 - 1991)', ha='center',fontsize=15)\n",
    "fig.text(.075, 0.5, 'Norm. Rank Prominence', va='center', rotation='vertical',fontsize=15)\n",
    "plt.show()"
   ]
  },
  {
   "cell_type": "code",
   "execution_count": null,
   "metadata": {},
   "outputs": [],
   "source": [
    "# Find subtracted R1 - R2 slopes\n",
    "r = []\n",
    "for topic, d_ in tqdm(rd.groupby('topic')):\n",
    "    dp_ = d_.pivot(index='time',columns='rank',values='rankprop')\n",
    "    pmk1_ = pmk.original_test(dp_[1])\n",
    "    pmk2_ = pmk.original_test(dp_[2])\n",
    "    r.append({\"topic\":topic,\"s1\":pmk1_.slope,\"s2\":pmk2_.slope})"
   ]
  },
  {
   "cell_type": "code",
   "execution_count": null,
   "metadata": {},
   "outputs": [],
   "source": [
    "df = pd.DataFrame(r)\n",
    "df['subslope'] = df['s1'] - df['s2']\n",
    "df['l'] = df.topic.apply(lambda x: keys.get(int(x)))\n",
    "ls = df.sort_values('subslope').topic.tolist()\n",
    "ls = ls[1:9]"
   ]
  },
  {
   "cell_type": "code",
   "execution_count": null,
   "metadata": {},
   "outputs": [],
   "source": [
    "# Plot top rising slopes\n",
    "fig,a = plt.subplots(2,4,figsize=(16,4),sharex=True,sharey=True)\n",
    "\n",
    "sns.set_palette('BrBG')\n",
    "\n",
    "for c,i in enumerate(ls):\n",
    "    dfp = rd[rd.topic == i].pivot(index='time',columns='rank',values='rankprop')\n",
    "    dfp['subtracted'] = dfp[2] - dfp[1]\n",
    "    Y = adaptive_filter(dfp.subtracted)\n",
    "    X = dfp.index \n",
    "    \n",
    "    ax = a.flatten()[c]\n",
    "    ax.plot(X,Y,c=main_colors[-1])\n",
    "    ax.xaxis.set_tick_params(rotation=90)\n",
    "    ax.set_title(keys[int(i)].upper())\n",
    "\n",
    "plt.subplots_adjust(hspace=.5)\n",
    "\n",
    "fig.text(0.5, -.1, '6-Month Periods (1945 - 1991)', ha='center',fontsize=15)\n",
    "fig.text(.075, 0.5, 'T(Rank 2 - Rank 1)', va='center', rotation='vertical',fontsize=15)\n",
    "plt.show()"
   ]
  }
 ],
 "metadata": {
  "kernelspec": {
   "display_name": "phd_venv",
   "language": "python",
   "name": "python3"
  },
  "language_info": {
   "codemirror_mode": {
    "name": "ipython",
    "version": 3
   },
   "file_extension": ".py",
   "mimetype": "text/x-python",
   "name": "python",
   "nbconvert_exporter": "python",
   "pygments_lexer": "ipython3",
   "version": "3.10.6 (main, Nov 10 2011, 15:00:00) [GCC 12.1.0]"
  },
  "orig_nbformat": 4,
  "vscode": {
   "interpreter": {
    "hash": "e8506529497a143c67e9e6ae3be7b51d1cb8f568d3562eff23fc916c00ba57ea"
   }
  }
 },
 "nbformat": 4,
 "nbformat_minor": 2
}
