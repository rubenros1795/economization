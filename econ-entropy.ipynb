{
 "cells": [
  {
   "cell_type": "code",
   "execution_count": null,
   "metadata": {},
   "outputs": [],
   "source": [
    "import pandas as pd\n",
    "import seaborn as sns\n",
    "from pymannkendall import pymannkendall as pmk\n",
    "from helpers import dataloader as dl\n",
    "import matplotlib.pyplot as plt\n",
    "import numpy as np\n",
    "from scipy.stats import entropy, zscore\n",
    "from helpers.afa import *\n",
    "\n",
    "import visualization as vz\n",
    "\n",
    "vz.visuals(font='Roboto')\n",
    "main_colors = [col for c,col in enumerate(sns.color_palette('BrBG',10)) if c not in [4,5]]"
   ]
  },
  {
   "cell_type": "code",
   "execution_count": null,
   "metadata": {},
   "outputs": [],
   "source": [
    "# Load Data\n",
    "words, dist, data, keys = dl.load_lda()\n",
    "\n",
    "# Remove irrelevant topics (by labels that are manually added)\n",
    "sem_topics = [str(t) for t,l in keys.items() if any(ss in l for ss in ['nonsem','rhet']) == False]\n",
    "dist = dist[sem_topics]"
   ]
  },
  {
   "cell_type": "code",
   "execution_count": null,
   "metadata": {},
   "outputs": [],
   "source": [
    "# Get a new DF with the topic index of the top value per speech\n",
    "ixm = dist.idxmax(axis=1)\n",
    "ixm = pd.DataFrame(ixm)\n",
    "ixm['date'] = data.date.tolist()\n",
    "\n",
    "# Group by topic and year and calculate mean entropy\n",
    "edf = (\n",
    "    ixm.groupby([ixm[0], ixm.date.dt.to_period('6M')])\n",
    "    .apply(lambda d_: dist.loc[d_.index].apply(entropy, axis=1).mean())\n",
    "    .reset_index(name='entropy')\n",
    "    .rename(columns={0: 'topic', 'date': 'date', 'entropy': 'entropy'})\n",
    ")"
   ]
  },
  {
   "cell_type": "code",
   "execution_count": null,
   "metadata": {},
   "outputs": [],
   "source": [
    "edfp = edf.pivot(index='date',columns='topic',values='entropy').fillna(0.0)"
   ]
  },
  {
   "cell_type": "code",
   "execution_count": null,
   "metadata": {},
   "outputs": [],
   "source": [
    "# Run Mann-Kendall test for monotonic trend detection\n",
    "pmk_results = {t:pmk.original_test(edfp[t]) for t in edfp.columns}\n",
    "pmk_results = pd.DataFrame([{\"topic\":topic,\"p\":v.p,\"slope\":v.slope} for topic,v in pmk_results.items()])\n",
    "pmk_results['label'] = pmk_results.topic.apply(lambda x: keys.get(int(x)))"
   ]
  },
  {
   "cell_type": "code",
   "execution_count": null,
   "metadata": {},
   "outputs": [],
   "source": [
    "# Sort on Mann-Kendall slopes\n",
    "pmk_results_sorted = pmk_results.sort_values('slope',ascending=False).reset_index(drop=True)"
   ]
  },
  {
   "cell_type": "code",
   "execution_count": null,
   "metadata": {},
   "outputs": [],
   "source": [
    "# Store topic prominences\n",
    "topic_prominence = dist.set_index(data.date)\n",
    "topic_prominence = topic_prominence.groupby(topic_prominence.index.to_period('6M')).mean()"
   ]
  },
  {
   "cell_type": "code",
   "execution_count": null,
   "metadata": {},
   "outputs": [],
   "source": [
    "fig, ax = plt.subplots(2,5,figsize=(16,4),sharex=True,sharey=True)\n",
    "\n",
    "for c, topic in enumerate(pmk_results_sorted.topic[:10]):\n",
    "    a = ax.flatten()[c]\n",
    "\n",
    "    Xe = edfp.index.to_timestamp()\n",
    "    Ye = adaptive_filter(edfp[topic] / edfp.mean(axis=1),span=36)\n",
    "    Ye = zscore(np.squeeze(np.asarray(Ye)))\n",
    "    a.plot(Xe,Ye,color=main_colors[0])\n",
    "\n",
    "    Xp = topic_prominence.index.to_timestamp()\n",
    "    Yp = adaptive_filter(topic_prominence[topic],span=36)\n",
    "    Yp = zscore(np.squeeze(np.asarray(Yp)))\n",
    "    a.plot(Xe,Yp,color=main_colors[-1],linestyle='-.',zorder=-1,linewidth=.75)\n",
    "\n",
    "    a.set_title(keys[int(topic)].upper(),fontsize=10)\n",
    "    a.xaxis.set_tick_params(rotation=90)\n",
    "\n",
    "fig.text(0.5, -.05, '6-Month Periods (1945 - 1991)', ha='center',fontsize=15)\n",
    "fig.text(.075, 0.5, 'Normalized Entropy / Prominence', va='center', rotation='vertical',fontsize=15)\n",
    "plt.show()"
   ]
  }
 ],
 "metadata": {
  "kernelspec": {
   "display_name": "phd_venv",
   "language": "python",
   "name": "python3"
  },
  "language_info": {
   "codemirror_mode": {
    "name": "ipython",
    "version": 3
   },
   "file_extension": ".py",
   "mimetype": "text/x-python",
   "name": "python",
   "nbconvert_exporter": "python",
   "pygments_lexer": "ipython3",
   "version": "3.10.6 (main, Nov 10 2011, 15:00:00) [GCC 12.1.0]"
  },
  "orig_nbformat": 4,
  "vscode": {
   "interpreter": {
    "hash": "e8506529497a143c67e9e6ae3be7b51d1cb8f568d3562eff23fc916c00ba57ea"
   }
  }
 },
 "nbformat": 4,
 "nbformat_minor": 2
}
